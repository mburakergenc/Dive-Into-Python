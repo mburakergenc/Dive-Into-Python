{
 "cells": [
  {
   "cell_type": "markdown",
   "metadata": {},
   "source": [
    "## Diving in"
   ]
  },
  {
   "cell_type": "markdown",
   "metadata": {},
   "source": [
    "Here is a complete python program. If you can't understand it yet, don't worry you will. For now try to read through the code and see if you can understand anything."
   ]
  },
  {
   "cell_type": "code",
   "execution_count": 33,
   "metadata": {
    "collapsed": false
   },
   "outputs": [
    {
     "name": "stdout",
     "output_type": "stream",
     "text": [
      "pwd=secret;database=master;uid=sa;server=tabutcu\n"
     ]
    }
   ],
   "source": [
    "def buildConnectionString(params):\n",
    "    \"\"\" Build a connection string from a dictionary of parameters. \"\"\"\n",
    "    # Returns string\n",
    "    return \";\".join([\"%s=%s\" % (k,v) for k,v in params.items()])\n",
    "\n",
    "if __name__ == \"__main__\":\n",
    "    myParams = {\n",
    "        \"server\":\"tabutcu\", \\\n",
    "        \"database\":\"master\", \\\n",
    "        \"uid\":\"sa\", \\\n",
    "        \"pwd\": \"secret\" \\\n",
    "    }\n",
    "    print buildConnectionString(myParams)"
   ]
  },
  {
   "cell_type": "markdown",
   "metadata": {},
   "source": [
    "## Declaring Functions"
   ]
  },
  {
   "cell_type": "markdown",
   "metadata": {},
   "source": [
    "Like most of the other programming languages, you can make up your own functions. Unlike C++ or JAVA Python functions does not have a separate header file. When you need a function, just declare it like this;"
   ]
  },
  {
   "cell_type": "code",
   "execution_count": 34,
   "metadata": {
    "collapsed": false
   },
   "outputs": [],
   "source": [
    "def buildConnectionString(params):\n",
    "     \"\"\" Do something \"\"\""
   ]
  },
  {
   "cell_type": "markdown",
   "metadata": {},
   "source": [
    "- def: Defines the function followed by a function name\n",
    "- (params): Are the parameters of the function. Multiple parameters separated with commas. \n",
    "- Python functions do not specify a return type. If the return value is ever executed in a function, it returns to that value. If not function returns to None, the Python Null value"
   ]
  },
  {
   "cell_type": "markdown",
   "metadata": {},
   "source": [
    "## Documenting Functions"
   ]
  },
  {
   "cell_type": "markdown",
   "metadata": {},
   "source": [
    "Python functions can be documented using a doc string. Below we see the buildConnectionString function's doc string."
   ]
  },
  {
   "cell_type": "code",
   "execution_count": 35,
   "metadata": {
    "collapsed": true
   },
   "outputs": [],
   "source": [
    "def buildConnectionString(params):\n",
    "    \"\"\" Build a connection string from a dictionary of parameters. \n",
    "    returns string\n",
    "    \"\"\""
   ]
  },
  {
   "cell_type": "markdown",
   "metadata": {},
   "source": [
    "Triple quotes signify a multi-line string. Everything between triple quotes is part of a single string."
   ]
  },
  {
   "cell_type": "markdown",
   "metadata": {},
   "source": [
    "## Everything is an Object"
   ]
  },
  {
   "cell_type": "markdown",
   "metadata": {},
   "source": [
    "Python functions have attributes which are available at runtime. A function like everything else is an object in Python. "
   ]
  },
  {
   "cell_type": "code",
   "execution_count": 36,
   "metadata": {
    "collapsed": false
   },
   "outputs": [],
   "source": [
    "import odbchelper"
   ]
  },
  {
   "cell_type": "code",
   "execution_count": 37,
   "metadata": {
    "collapsed": false
   },
   "outputs": [
    {
     "name": "stdout",
     "output_type": "stream",
     "text": [
      "pwd=secret;database=master;uid=sa;server=tabutcu\n"
     ]
    }
   ],
   "source": [
    "params = {\"server\":\"tabutcu\", \"database\":\"master\", \"uid\":\"sa\", \"pwd\":\"secret\"}\n",
    "print odbchelper.buildConnectionString(params)"
   ]
  },
  {
   "cell_type": "code",
   "execution_count": 38,
   "metadata": {
    "collapsed": false
   },
   "outputs": [
    {
     "name": "stdout",
     "output_type": "stream",
     "text": [
      "Build a connection string from a dictionary of parameters.\n",
      "\n",
      "    Returns string.\n"
     ]
    }
   ],
   "source": [
    "print odbchelper.buildConnectionString.__doc__"
   ]
  },
  {
   "cell_type": "markdown",
   "metadata": {},
   "source": [
    "- In the code snippet above, the first line imports the odbchelper program as a module. Once the module is imported we can use any of its public functions, classes or attributes.\n",
    "- When the functions that are imported from modules used, module name is also needed. You cannot just say buildConnectionString; it must be odbchelper.buildConnectionString.\n",
    "- In the last line, we asked for one of the attributes of the function. (__doc__)"
   ]
  },
  {
   "cell_type": "markdown",
   "metadata": {},
   "source": [
    "## Import Search Path"
   ]
  },
  {
   "cell_type": "markdown",
   "metadata": {},
   "source": [
    "When you try to import a module, Python looks in several places. Specifically, it looks in all the directories defined in sys.path. sys.path is a regular list that can be viewed or modified easily with the default list operations. "
   ]
  },
  {
   "cell_type": "code",
   "execution_count": 39,
   "metadata": {
    "collapsed": true
   },
   "outputs": [],
   "source": [
    "import sys"
   ]
  },
  {
   "cell_type": "code",
   "execution_count": 40,
   "metadata": {
    "collapsed": false
   },
   "outputs": [
    {
     "data": {
      "text/plain": [
       "['',\n",
       " '/home/zulfikar/anaconda2/lib/python2.7/site-packages/python_magic-0.4.12-py2.7.egg',\n",
       " '/home/zulfikar/anaconda2/lib/python2.7/site-packages/pymongo-2.3-py2.7-linux-x86_64.egg',\n",
       " '/home/zulfikar/anaconda2/lib/python27.zip',\n",
       " '/home/zulfikar/anaconda2/lib/python2.7',\n",
       " '/home/zulfikar/anaconda2/lib/python2.7/plat-linux2',\n",
       " '/home/zulfikar/anaconda2/lib/python2.7/lib-tk',\n",
       " '/home/zulfikar/anaconda2/lib/python2.7/lib-old',\n",
       " '/home/zulfikar/anaconda2/lib/python2.7/lib-dynload',\n",
       " '/home/zulfikar/anaconda2/lib/python2.7/site-packages',\n",
       " '/home/zulfikar/anaconda2/lib/python2.7/site-packages/Sphinx-1.4.1-py2.7.egg',\n",
       " '/home/zulfikar/anaconda2/lib/python2.7/site-packages/setuptools-23.0.0-py2.7.egg',\n",
       " '/home/zulfikar/anaconda2/lib/python2.7/site-packages/IPython/extensions',\n",
       " '/home/zulfikar/.ipython',\n",
       " '/my/new/path']"
      ]
     },
     "execution_count": 40,
     "metadata": {},
     "output_type": "execute_result"
    }
   ],
   "source": [
    "sys.path"
   ]
  },
  {
   "cell_type": "code",
   "execution_count": 41,
   "metadata": {
    "collapsed": false
   },
   "outputs": [
    {
     "data": {
      "text/plain": [
       "<module 'sys' (built-in)>"
      ]
     },
     "execution_count": 41,
     "metadata": {},
     "output_type": "execute_result"
    }
   ],
   "source": [
    "sys"
   ]
  },
  {
   "cell_type": "code",
   "execution_count": 42,
   "metadata": {
    "collapsed": true
   },
   "outputs": [],
   "source": [
    "sys.path.append('/my/new/path')"
   ]
  },
  {
   "cell_type": "markdown",
   "metadata": {},
   "source": [
    "- import sys: Importing the sys module, we had access to all of its functions and attributes that are available. \n",
    "- sys.path: is a list of directories, that python looks in. Python will look at these directories when importing a module. \n",
    "- There are also built in modules in Python that are not stored as .py file. Built in modules act just like the regular modules, but their source code is not available, because they are not written in Python.(sys module is written in C)\n",
    "- You can also add a new directory for python to search for by appending the directory name into the sys.path list. "
   ]
  },
  {
   "cell_type": "markdown",
   "metadata": {},
   "source": [
    "## What is an Object"
   ]
  },
  {
   "cell_type": "markdown",
   "metadata": {},
   "source": [
    "- As we said earlier, everything in python is an object. Almost everything has attributes and methods. For example every function has built in attribute __doc__, which returns the doc string of the defined function. The sys module is also an object. Path is an attribute of the sys module object. \n",
    "- In Python everything is an object in the sense that it can be assigned to a variable or passed as an argument to a function. Some objects have neither attributes nor methods. \n",
    "### Further reading on Objects\n",
    "- http://www.python.org/doc/current/ref/objects.html\n",
    "- http://www.effbot.org/guides/python−objects.htm"
   ]
  },
  {
   "cell_type": "markdown",
   "metadata": {},
   "source": [
    "## Indenting Code"
   ]
  },
  {
   "cell_type": "markdown",
   "metadata": {},
   "source": [
    "Python functions does not have explicit begin or end, curly braces to mark where the code starts and ends. Only delimiter is (:) and the indentation of the code itself."
   ]
  },
  {
   "cell_type": "code",
   "execution_count": 43,
   "metadata": {
    "collapsed": true
   },
   "outputs": [],
   "source": [
    "def fib(n):\n",
    "    print 'n=', n,\n",
    "    if n > 1:\n",
    "        return n * fib(n-1)\n",
    "    else:\n",
    "        print 'end of the line'\n",
    "        return 1"
   ]
  },
  {
   "cell_type": "markdown",
   "metadata": {},
   "source": [
    "- The function named as fib and takes one argument, n. All the code within the function is indented.\n",
    "- Printing in Python is very easy too. print statement can print any data type including strings, integers, dictionaries, lists and etc. If you want to print several values in the same line, comma-separated values does the trick.\n",
    "- If statement is a code block. If the code block evaluates True, indented part will be executed, otherwise else block will be executed. "
   ]
  },
  {
   "cell_type": "code",
   "execution_count": 44,
   "metadata": {
    "collapsed": false
   },
   "outputs": [
    {
     "name": "stdout",
     "output_type": "stream",
     "text": [
      "n= 5 n= 4 n= 3 n= 2 n= 1 end of the line\n"
     ]
    },
    {
     "data": {
      "text/plain": [
       "120"
      ]
     },
     "execution_count": 44,
     "metadata": {},
     "output_type": "execute_result"
    }
   ],
   "source": [
    "fib(5)"
   ]
  }
 ],
 "metadata": {
  "kernelspec": {
   "display_name": "Python [Root]",
   "language": "python",
   "name": "Python [Root]"
  },
  "language_info": {
   "codemirror_mode": {
    "name": "ipython",
    "version": 2
   },
   "file_extension": ".py",
   "mimetype": "text/x-python",
   "name": "python",
   "nbconvert_exporter": "python",
   "pygments_lexer": "ipython2",
   "version": "2.7.12"
  }
 },
 "nbformat": 4,
 "nbformat_minor": 0
}
